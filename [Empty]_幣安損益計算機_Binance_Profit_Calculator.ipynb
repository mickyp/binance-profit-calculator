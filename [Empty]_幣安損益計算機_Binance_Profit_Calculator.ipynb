{
  "nbformat": 4,
  "nbformat_minor": 0,
  "metadata": {
    "colab": {
      "name": "[Empty] 幣安損益計算機 Binance Profit Calculator.ipynb",
      "provenance": [],
      "collapsed_sections": [],
      "authorship_tag": "ABX9TyMLGFMj2I+mRfJIT1aSf9YL",
      "include_colab_link": true
    },
    "kernelspec": {
      "name": "python3",
      "display_name": "Python 3"
    },
    "language_info": {
      "name": "python"
    }
  },
  "cells": [
    {
      "cell_type": "markdown",
      "metadata": {
        "id": "view-in-github",
        "colab_type": "text"
      },
      "source": [
        "<a href=\"https://colab.research.google.com/github/mickyp/binance-profit-calculator/blob/main/%5BEmpty%5D_%E5%B9%A3%E5%AE%89%E6%90%8D%E7%9B%8A%E8%A8%88%E7%AE%97%E6%A9%9F_Binance_Profit_Calculator.ipynb\" target=\"_parent\"><img src=\"https://colab.research.google.com/assets/colab-badge.svg\" alt=\"Open In Colab\"/></a>"
      ]
    },
    {
      "cell_type": "code",
      "source": [
        "# 作者 Micky Lee (mickyp100 @ gmail)\n",
        "# 日期 2021.12.10\n",
        "# 專案 https://github.com/mickyp/binance-profit-calculator\n",
        "# 參考\n",
        "# 1. https://algotrading101.com/learn/binance-python-api-guide/\n",
        "# 2. https://python-binance.readthedocs.io/en/latest/\n"
      ],
      "metadata": {
        "id": "0GQ7g1NgGVw9"
      },
      "execution_count": null,
      "outputs": []
    },
    {
      "cell_type": "code",
      "execution_count": null,
      "metadata": {
        "colab": {
          "base_uri": "https://localhost:8080/"
        },
        "id": "upU_0PwI-nLl",
        "outputId": "25e503f2-dd11-4267-d453-5ccac4219188"
      },
      "outputs": [
        {
          "output_type": "stream",
          "name": "stdout",
          "text": [
            "Requirement already satisfied: python-binance in /usr/local/lib/python3.7/dist-packages (1.0.15)\n",
            "Requirement already satisfied: requests in /usr/local/lib/python3.7/dist-packages (from python-binance) (2.23.0)\n",
            "Requirement already satisfied: aiohttp in /usr/local/lib/python3.7/dist-packages (from python-binance) (3.8.1)\n",
            "Requirement already satisfied: six in /usr/local/lib/python3.7/dist-packages (from python-binance) (1.15.0)\n",
            "Requirement already satisfied: dateparser in /usr/local/lib/python3.7/dist-packages (from python-binance) (1.1.0)\n",
            "Requirement already satisfied: ujson in /usr/local/lib/python3.7/dist-packages (from python-binance) (4.3.0)\n",
            "Requirement already satisfied: websockets==9.1 in /usr/local/lib/python3.7/dist-packages (from python-binance) (9.1)\n",
            "Requirement already satisfied: multidict<7.0,>=4.5 in /usr/local/lib/python3.7/dist-packages (from aiohttp->python-binance) (5.2.0)\n",
            "Requirement already satisfied: asynctest==0.13.0 in /usr/local/lib/python3.7/dist-packages (from aiohttp->python-binance) (0.13.0)\n",
            "Requirement already satisfied: typing-extensions>=3.7.4 in /usr/local/lib/python3.7/dist-packages (from aiohttp->python-binance) (3.10.0.2)\n",
            "Requirement already satisfied: frozenlist>=1.1.1 in /usr/local/lib/python3.7/dist-packages (from aiohttp->python-binance) (1.2.0)\n",
            "Requirement already satisfied: yarl<2.0,>=1.0 in /usr/local/lib/python3.7/dist-packages (from aiohttp->python-binance) (1.7.2)\n",
            "Requirement already satisfied: async-timeout<5.0,>=4.0.0a3 in /usr/local/lib/python3.7/dist-packages (from aiohttp->python-binance) (4.0.1)\n",
            "Requirement already satisfied: charset-normalizer<3.0,>=2.0 in /usr/local/lib/python3.7/dist-packages (from aiohttp->python-binance) (2.0.8)\n",
            "Requirement already satisfied: aiosignal>=1.1.2 in /usr/local/lib/python3.7/dist-packages (from aiohttp->python-binance) (1.2.0)\n",
            "Requirement already satisfied: attrs>=17.3.0 in /usr/local/lib/python3.7/dist-packages (from aiohttp->python-binance) (21.2.0)\n",
            "Requirement already satisfied: idna>=2.0 in /usr/local/lib/python3.7/dist-packages (from yarl<2.0,>=1.0->aiohttp->python-binance) (2.10)\n",
            "Requirement already satisfied: pytz in /usr/local/lib/python3.7/dist-packages (from dateparser->python-binance) (2018.9)\n",
            "Requirement already satisfied: tzlocal in /usr/local/lib/python3.7/dist-packages (from dateparser->python-binance) (1.5.1)\n",
            "Requirement already satisfied: python-dateutil in /usr/local/lib/python3.7/dist-packages (from dateparser->python-binance) (2.8.2)\n",
            "Requirement already satisfied: regex!=2019.02.19,!=2021.8.27 in /usr/local/lib/python3.7/dist-packages (from dateparser->python-binance) (2019.12.20)\n",
            "Requirement already satisfied: certifi>=2017.4.17 in /usr/local/lib/python3.7/dist-packages (from requests->python-binance) (2021.10.8)\n",
            "Requirement already satisfied: chardet<4,>=3.0.2 in /usr/local/lib/python3.7/dist-packages (from requests->python-binance) (3.0.4)\n",
            "Requirement already satisfied: urllib3!=1.25.0,!=1.25.1,<1.26,>=1.21.1 in /usr/local/lib/python3.7/dist-packages (from requests->python-binance) (1.24.3)\n"
          ]
        }
      ],
      "source": [
        "pip install python-binance"
      ]
    },
    {
      "cell_type": "code",
      "source": [
        "import os\n",
        "#import btalib\n",
        "import pandas as pd\n",
        "import datetime\n",
        "\n",
        "from binance.client import Client"
      ],
      "metadata": {
        "id": "nFfzANdJ_j7I"
      },
      "execution_count": null,
      "outputs": []
    },
    {
      "cell_type": "code",
      "source": [
        "# init\n",
        "api_key = '填入幣安的 api key'\n",
        "api_secret = '填入幣安的 api secret'"
      ],
      "metadata": {
        "id": "CleIMxfC_o5-"
      },
      "execution_count": null,
      "outputs": []
    },
    {
      "cell_type": "code",
      "source": [
        "client = Client(api_key, api_secret)\n",
        "frames = []\n",
        "\n",
        "#台幣對美金匯率\n",
        "twd = 28"
      ],
      "metadata": {
        "id": "Jy_zYQ24_zBI"
      },
      "execution_count": null,
      "outputs": []
    },
    {
      "cell_type": "code",
      "source": [
        "def bitcoinInfo(symbol1, symbol2):\n",
        "  pair = symbol1 + symbol2\n",
        "  print('*****  ', symbol1, '/', symbol2, '  *****')\n",
        "  trades = client.get_my_trades(symbol=pair)\n",
        "\n",
        "  # 取得目前 ticker 價錢\n",
        "  ticker_price = client.get_symbol_ticker(symbol=pair)\n",
        "  ticker_price = float(ticker_price['price'])\n",
        "  print('當前價位：', ticker_price)\n",
        "\n",
        "  # 設置計算結果\n",
        "  total_df = pd.DataFrame(columns=['symbol1','symbol2','當前價位','持有成本','數量','總價','損益%','美金損益','台幣損益'])\n",
        "\n",
        "  if len(trades) == 0: # 沒有交易紀錄，代表不是經由購買的管道，而是透過礦池或質押的方式取得\n",
        "    \n",
        "    balance = client.get_asset_balance(asset=symbol1)\n",
        "    currentBalance = float(balance['free']) + float(balance['locked'])\n",
        "    print('非交易而來，故無購入成本')\n",
        "    currentTotal = currentBalance * ticker_price\n",
        "    print('目前持有成本：', ticker_price, ', 持有數量：', currentBalance, ', 持有總價：', currentTotal, symbol2)\n",
        "    new_row = [symbol1, symbol2, ticker_price, ticker_price, currentBalance, currentTotal, 0, currentTotal, currentTotal*28]\n",
        "    total_df.loc[len(total_df)] = new_row\n",
        "  else:\n",
        "    # 代表是經由購買的管道，所以有交易紀錄\n",
        "    trades_df = pd.DataFrame(trades)\n",
        "\n",
        "    # clean data\n",
        "    df = trades_df[['symbol', 'price', 'qty', 'quoteQty', 'isBuyer', 'isMaker']]\n",
        "    df = df.astype({'price':'float', 'qty':'float', 'quoteQty':'float',})\n",
        "    df.head()\n",
        "\n",
        "    # 計算買入的平均成本\n",
        "    df_buy = df[df['isBuyer'] == True]\n",
        "    if df_buy.size > 0:\n",
        "      df_buy_sum = df_buy.sum()\n",
        "      df_buy_sum_quote_qty = df_buy_sum['quoteQty']\n",
        "      df_buy_sum_qty = df_buy_sum['qty']\n",
        "      #df_buy_cost = df_buy_sum['quoteQty']/df_buy_sum['qty']\n",
        "      df_buy_cost = df_buy_sum_quote_qty/df_buy_sum_qty\n",
        "      print('購入平均成本：', df_buy_cost, ', 持有數量：', df_buy_sum_qty, ', 購入總價: ', df_buy_sum_quote_qty, symbol2)\n",
        "    else:\n",
        "      df_buy_sum_quote_qty = 0\n",
        "      df_buy_sum_qty = 0\n",
        "\n",
        "    # 計算賣出的平均成本\n",
        "    df_sell = df[df['isBuyer'] == False]\n",
        "    if df_sell.size > 0:\n",
        "      df_sell_sum = df_sell.sum()\n",
        "      df_sell_sum_quote_qty = df_sell_sum['quoteQty']\n",
        "      df_sell_sum_qty = df_sell_sum['qty']\n",
        "      #df_sell_cost = df_sell_sum['quoteQty']/df_sell_sum['qty']\n",
        "      df_sell_cost = df_sell_sum_quote_qty/df_sell_sum_qty\n",
        "      print('賣出平均成本：', df_sell_cost, ', 賣出數量：', df_sell_sum_qty, ', 賣出總價: ', df_sell_sum_quote_qty, symbol2)\n",
        "    else:\n",
        "      df_sell_sum_quote_qty = 0\n",
        "      df_sell_sum_qty = 0\n",
        "\n",
        "    # 計算剩下的購入成本\n",
        "    #if df_sell.size > 0:\n",
        "    now_qty = df_buy_sum_qty - df_sell_sum_qty # 剩餘數量\n",
        "    now_quoteQty = df_buy_sum_quote_qty - df_sell_sum_quote_qty # 剩餘付出\n",
        "    if now_qty < 0:\n",
        "      now_qty = 0\n",
        "    if now_quoteQty < 0:\n",
        "      now_quoteQty = 0\n",
        "      print(pair, '已回本')\n",
        "    \n",
        "    # 如果現在有持有，才去計算持有成本\n",
        "    if now_qty > 0:\n",
        "      now_cost = now_quoteQty/now_qty\n",
        "      if now_quoteQty <= 0:\n",
        "        now_cost = df_buy_cost  #因為已回本了，所以用當初購入的初始成本\n",
        "      print('目前持有成本：', now_cost, ', 持有數量：', now_qty, ', 持有總價：', now_quoteQty, symbol2)\n",
        "    else:\n",
        "      now_cost = 0\n",
        "    \n",
        "    print('---')\n",
        "    \n",
        "    # 計算獲利率\n",
        "    if now_cost > 0:\n",
        "      profit = (ticker_price - now_cost)/now_cost*100\n",
        "      print('獲利:', profit, '%')\n",
        "    else:\n",
        "      profit = 0\n",
        "\n",
        "    # 計算損益\n",
        "    deltaUSDT = ticker_price*now_qty - now_cost*now_qty\n",
        "    \n",
        "    # 如果 symbol2 不是 USDT，則將其換算成 USDT\n",
        "    if symbol2 != 'USDT':\n",
        "      transfer_price = client.get_symbol_ticker(symbol=(symbol2+'USDT'))\n",
        "      transfer_price = float(transfer_price['price'])\n",
        "      print('將', symbol2 , '轉成 USDT, 價位是', transfer_price)\n",
        "      deltaUSDT = deltaUSDT * transfer_price\n",
        "\n",
        "    deltaTWD = deltaUSDT * twd\n",
        "    print('損益:', deltaUSDT, 'USDT')\n",
        "    print('損益:', deltaTWD, 'TWD')\n",
        "\n",
        "    new_row = [symbol1, symbol2, ticker_price, now_cost, now_qty, now_quoteQty, profit, deltaUSDT, deltaTWD]\n",
        "    total_df.loc[len(total_df)] = new_row\n",
        "\n",
        "  print()\n",
        "  frames.append(total_df)\n"
      ],
      "metadata": {
        "id": "eC7YM3P272Hz"
      },
      "execution_count": null,
      "outputs": []
    },
    {
      "cell_type": "code",
      "source": [
        "# 輸入你曾經有買賣過的交易對，可以輸入多組，每一組之間要換行\n",
        "\n",
        "# BTC/USDT 交易對\n",
        "bitcoinInfo('BTC', 'USDT')\n",
        "\n",
        "# ETH/USDT 交易對\n",
        "bitcoinInfo('ETH', 'USDT')"
      ],
      "metadata": {
        "colab": {
          "base_uri": "https://localhost:8080/"
        },
        "id": "zxQfvjm-9amu",
        "outputId": "a8ed96d8-2654-4608-8247-97d0ac7d6ed1"
      },
      "execution_count": null,
      "outputs": [
        {
          "output_type": "stream",
          "name": "stdout",
          "text": [
            "*****   BTC / USDT   *****\n",
            "當前價位： 48256.9\n",
            "購入平均成本： 53898.087870840856 , 持有數量： 0.061009999999999995 , 購入總價:  3288.3223410000005 USDT\n",
            "賣出平均成本： 61229.99999999999 , 賣出數量： 0.005 , 賣出總價:  306.15 USDT\n",
            "目前持有成本： 53243.56973754687 , 持有數量： 0.05601 , 持有總價： 2982.1723410000004 USDT\n",
            "---\n",
            "獲利: -9.365768978540743 %\n",
            "損益: -279.3033720000003 USDT\n",
            "損益: -7820.494416000009 TWD\n",
            "\n",
            "*****   ETH / USDT   *****\n",
            "當前價位： 4119.89\n",
            "購入平均成本： 3843.2987378210805 , 持有數量： 0.2258 , 購入總價:  867.816855 USDT\n",
            "目前持有成本： 3843.2987378210805 , 持有數量： 0.2258 , 持有總價： 867.816855 USDT\n",
            "---\n",
            "獲利: 7.196715141007499 %\n",
            "損益: 62.454307000000085 USDT\n",
            "損益: 1748.7205960000024 TWD\n",
            "\n"
          ]
        }
      ]
    },
    {
      "cell_type": "code",
      "source": [
        "all = pd.concat(frames)\n",
        "print('***** 所有 [交易對] 的損益一覽表 *****')\n",
        "all"
      ],
      "metadata": {
        "colab": {
          "base_uri": "https://localhost:8080/",
          "height": 129
        },
        "id": "8JadkqQRHB0q",
        "outputId": "8c24362c-5f31-405f-a91b-855764631338"
      },
      "execution_count": null,
      "outputs": [
        {
          "output_type": "stream",
          "name": "stdout",
          "text": [
            "***** 所有 [交易對] 的損益一覽表 *****\n"
          ]
        },
        {
          "output_type": "execute_result",
          "data": {
            "text/html": [
              "<div>\n",
              "<style scoped>\n",
              "    .dataframe tbody tr th:only-of-type {\n",
              "        vertical-align: middle;\n",
              "    }\n",
              "\n",
              "    .dataframe tbody tr th {\n",
              "        vertical-align: top;\n",
              "    }\n",
              "\n",
              "    .dataframe thead th {\n",
              "        text-align: right;\n",
              "    }\n",
              "</style>\n",
              "<table border=\"1\" class=\"dataframe\">\n",
              "  <thead>\n",
              "    <tr style=\"text-align: right;\">\n",
              "      <th></th>\n",
              "      <th>symbol1</th>\n",
              "      <th>symbol2</th>\n",
              "      <th>當前價位</th>\n",
              "      <th>持有成本</th>\n",
              "      <th>數量</th>\n",
              "      <th>總價</th>\n",
              "      <th>損益%</th>\n",
              "      <th>美金損益</th>\n",
              "      <th>台幣損益</th>\n",
              "    </tr>\n",
              "  </thead>\n",
              "  <tbody>\n",
              "    <tr>\n",
              "      <th>0</th>\n",
              "      <td>BTC</td>\n",
              "      <td>USDT</td>\n",
              "      <td>48256.90</td>\n",
              "      <td>53243.569738</td>\n",
              "      <td>0.05601</td>\n",
              "      <td>2982.172341</td>\n",
              "      <td>-9.365769</td>\n",
              "      <td>-279.303372</td>\n",
              "      <td>-7820.494416</td>\n",
              "    </tr>\n",
              "    <tr>\n",
              "      <th>0</th>\n",
              "      <td>ETH</td>\n",
              "      <td>USDT</td>\n",
              "      <td>4119.89</td>\n",
              "      <td>3843.298738</td>\n",
              "      <td>0.22580</td>\n",
              "      <td>867.816855</td>\n",
              "      <td>7.196715</td>\n",
              "      <td>62.454307</td>\n",
              "      <td>1748.720596</td>\n",
              "    </tr>\n",
              "  </tbody>\n",
              "</table>\n",
              "</div>"
            ],
            "text/plain": [
              "  symbol1 symbol2      當前價位  ...       損益%        美金損益         台幣損益\n",
              "0     BTC    USDT  48256.90  ... -9.365769 -279.303372 -7820.494416\n",
              "0     ETH    USDT   4119.89  ...  7.196715   62.454307  1748.720596\n",
              "\n",
              "[2 rows x 9 columns]"
            ]
          },
          "metadata": {},
          "execution_count": 63
        }
      ]
    },
    {
      "cell_type": "code",
      "source": [
        "print('***** 資金摘要 *****')\n",
        "\n",
        "# 取得入金記錄\n",
        "deposit = client.get_deposit_history()\n",
        "deposit_df = pd.DataFrame(deposit)\n",
        "\n",
        "# clean data\n",
        "deposit_df = deposit_df[['amount', 'coin', 'insertTime']]\n",
        "deposit_df = deposit_df.astype({'amount':'float'})\n",
        "\n",
        "deposit_sum = deposit_df.sum()\n",
        "print('幣安已入金：', deposit_sum['amount'], 'USDT')\n",
        "\n",
        "all_sum = all.sum()\n",
        "print('美金損益：', all_sum['美金損益'], 'USDT')\n",
        "print('台幣損益：', all_sum['台幣損益'], 'TWD')"
      ],
      "metadata": {
        "colab": {
          "base_uri": "https://localhost:8080/"
        },
        "id": "iKhzFQ1XPzTo",
        "outputId": "e350ea4a-c0fe-4956-f906-008fb19da345"
      },
      "execution_count": null,
      "outputs": [
        {
          "output_type": "stream",
          "name": "stdout",
          "text": [
            "***** 資金摘要 *****\n",
            "幣安已入金： 7784.5 USDT\n",
            "美金損益： -216.84906500000022 USDT\n",
            "台幣損益： -6071.773820000006 TWD\n"
          ]
        }
      ]
    }
  ]
}
